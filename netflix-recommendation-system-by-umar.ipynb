{
 "cells": [
  {
   "cell_type": "markdown",
   "metadata": {},
   "source": [
    "# Data Understanding and Pre-processing"
   ]
  },
  {
   "cell_type": "markdown",
   "metadata": {
    "papermill": {
     "duration": 0.040062,
     "end_time": "2021-06-22T09:26:58.19646",
     "exception": false,
     "start_time": "2021-06-22T09:26:58.156398",
     "status": "completed"
    },
    "tags": []
   },
   "source": [
    "## 1. Importing libraries"
   ]
  },
  {
   "cell_type": "code",
   "execution_count": null,
   "metadata": {
    "execution": {
     "iopub.execute_input": "2025-02-18T19:24:46.730546Z",
     "iopub.status.busy": "2025-02-18T19:24:46.730180Z",
     "iopub.status.idle": "2025-02-18T19:24:47.509743Z",
     "shell.execute_reply": "2025-02-18T19:24:47.508924Z",
     "shell.execute_reply.started": "2025-02-18T19:24:46.730466Z"
    },
    "papermill": {
     "duration": 2.300829,
     "end_time": "2021-06-22T09:27:00.539021",
     "exception": false,
     "start_time": "2021-06-22T09:26:58.238192",
     "status": "completed"
    },
    "tags": [],
    "trusted": true
   },
   "outputs": [],
   "source": [
    "import numpy as np\n",
    "import pandas as pd\n",
    "import seaborn as sb\n",
    "import matplotlib.pyplot as plt\n",
    "%matplotlib inline\n",
    "\n",
    "import warnings\n",
    "warnings.filterwarnings(\"ignore\")\n"
   ]
  },
  {
   "cell_type": "markdown",
   "metadata": {
    "papermill": {
     "duration": 0.039341,
     "end_time": "2021-06-22T09:27:00.618513",
     "exception": false,
     "start_time": "2021-06-22T09:27:00.579172",
     "status": "completed"
    },
    "tags": []
   },
   "source": [
    "### Reading Data"
   ]
  },
  {
   "cell_type": "code",
   "execution_count": null,
   "metadata": {
    "execution": {
     "iopub.execute_input": "2025-02-18T19:24:47.511395Z",
     "iopub.status.busy": "2025-02-18T19:24:47.511050Z",
     "iopub.status.idle": "2025-02-18T19:24:47.649408Z",
     "shell.execute_reply": "2025-02-18T19:24:47.648650Z",
     "shell.execute_reply.started": "2025-02-18T19:24:47.511364Z"
    },
    "papermill": {
     "duration": 0.191971,
     "end_time": "2021-06-22T09:27:00.850393",
     "exception": false,
     "start_time": "2021-06-22T09:27:00.658422",
     "status": "completed"
    },
    "tags": [],
    "trusted": true
   },
   "outputs": [],
   "source": [
    "df = pd.read_csv(\"/kaggle/input/netflix-shows/netflix_titles.csv\")\n",
    "df.head()"
   ]
  },
  {
   "cell_type": "markdown",
   "metadata": {
    "papermill": {
     "duration": 0.042072,
     "end_time": "2021-06-22T09:27:01.015894",
     "exception": false,
     "start_time": "2021-06-22T09:27:00.973822",
     "status": "completed"
    },
    "tags": []
   },
   "source": [
    "Data Exploration"
   ]
  },
  {
   "cell_type": "code",
   "execution_count": null,
   "metadata": {
    "execution": {
     "iopub.execute_input": "2025-02-18T19:24:47.651442Z",
     "iopub.status.busy": "2025-02-18T19:24:47.651108Z",
     "iopub.status.idle": "2025-02-18T19:24:47.671872Z",
     "shell.execute_reply": "2025-02-18T19:24:47.671031Z",
     "shell.execute_reply.started": "2025-02-18T19:24:47.651409Z"
    },
    "papermill": {
     "duration": 0.072825,
     "end_time": "2021-06-22T09:27:01.129465",
     "exception": false,
     "start_time": "2021-06-22T09:27:01.05664",
     "status": "completed"
    },
    "tags": [],
    "trusted": true
   },
   "outputs": [],
   "source": [
    "df.info()"
   ]
  },
  {
   "cell_type": "markdown",
   "metadata": {},
   "source": [
    "### --> Looking for any missing values"
   ]
  },
  {
   "cell_type": "code",
   "execution_count": null,
   "metadata": {
    "execution": {
     "iopub.execute_input": "2025-02-18T19:24:47.673503Z",
     "iopub.status.busy": "2025-02-18T19:24:47.673156Z",
     "iopub.status.idle": "2025-02-18T19:24:47.686768Z",
     "shell.execute_reply": "2025-02-18T19:24:47.685935Z",
     "shell.execute_reply.started": "2025-02-18T19:24:47.673477Z"
    },
    "papermill": {
     "duration": 0.061133,
     "end_time": "2021-06-22T09:27:01.233324",
     "exception": false,
     "start_time": "2021-06-22T09:27:01.172191",
     "status": "completed"
    },
    "tags": [],
    "trusted": true
   },
   "outputs": [],
   "source": [
    "df.isna().sum()"
   ]
  },
  {
   "cell_type": "code",
   "execution_count": null,
   "metadata": {
    "execution": {
     "iopub.execute_input": "2025-02-18T19:24:47.688034Z",
     "iopub.status.busy": "2025-02-18T19:24:47.687719Z",
     "iopub.status.idle": "2025-02-18T19:24:48.658156Z",
     "shell.execute_reply": "2025-02-18T19:24:48.657064Z",
     "shell.execute_reply.started": "2025-02-18T19:24:47.688011Z"
    },
    "papermill": {
     "duration": 0.796506,
     "end_time": "2021-06-22T09:27:02.071474",
     "exception": false,
     "start_time": "2021-06-22T09:27:01.274968",
     "status": "completed"
    },
    "tags": [],
    "trusted": true
   },
   "outputs": [],
   "source": [
    "# Plot missing values in columns\n",
    "import missingno #Python library for the exploratory visualization of missing data #install using !pip install missingno\n",
    "\n",
    "color = ['dimgrey', 'dimgrey', 'dimgrey', 'darkblue', 'blue', 'blue', 'lightblue', 'dimgrey', 'dimgrey', 'dimgrey', 'dimgrey', 'dimgrey']\n",
    "\n",
    "missingno.bar(df,fontsize=10,color=color,figsize=(10,5))\n",
    "\n",
    "plt.title('COLUMN WISE MISSING VALUES',fontsize=20)"
   ]
  },
  {
   "cell_type": "markdown",
   "metadata": {
    "papermill": {
     "duration": 0.044277,
     "end_time": "2021-06-22T09:27:02.160159",
     "exception": false,
     "start_time": "2021-06-22T09:27:02.115882",
     "status": "completed"
    },
    "tags": []
   },
   "source": [
    "- The columns director, cast, nation, and date_added have missing values.\n",
    "- We may drop the director and cast columns as we are unable to haphazardly fill in their missing values.\n",
    "- We may use the mean and mode, which are the most frequent values, to fill in the least amount of missing entries in the country and date_added, rating.\n"
   ]
  },
  {
   "cell_type": "markdown",
   "metadata": {},
   "source": [
    "# Data Wrangling Operations "
   ]
  },
  {
   "cell_type": "markdown",
   "metadata": {
    "papermill": {
     "duration": 0.043067,
     "end_time": "2021-06-22T09:27:02.247084",
     "exception": false,
     "start_time": "2021-06-22T09:27:02.204017",
     "status": "completed"
    },
    "tags": []
   },
   "source": [
    "### --> Managing absent values\n"
   ]
  },
  {
   "cell_type": "code",
   "execution_count": null,
   "metadata": {
    "execution": {
     "iopub.execute_input": "2025-02-18T19:24:48.660008Z",
     "iopub.status.busy": "2025-02-18T19:24:48.659577Z",
     "iopub.status.idle": "2025-02-18T19:24:48.680620Z",
     "shell.execute_reply": "2025-02-18T19:24:48.679186Z",
     "shell.execute_reply.started": "2025-02-18T19:24:48.659965Z"
    },
    "papermill": {
     "duration": 0.061036,
     "end_time": "2021-06-22T09:27:02.351588",
     "exception": false,
     "start_time": "2021-06-22T09:27:02.290552",
     "status": "completed"
    },
    "tags": [],
    "trusted": true
   },
   "outputs": [],
   "source": [
    "df['country'] = df['country'].fillna(df['country'].mode()[0])\n",
    "\n",
    "df['date_added'] = df['date_added'].fillna(df['date_added'].mode()[0])\n",
    "\n",
    "df['rating'] = df['rating'].fillna(df['country'].mode()[0])"
   ]
  },
  {
   "cell_type": "code",
   "execution_count": null,
   "metadata": {
    "execution": {
     "iopub.execute_input": "2025-02-18T19:24:48.682941Z",
     "iopub.status.busy": "2025-02-18T19:24:48.682476Z",
     "iopub.status.idle": "2025-02-18T19:24:48.693876Z",
     "shell.execute_reply": "2025-02-18T19:24:48.693172Z",
     "shell.execute_reply.started": "2025-02-18T19:24:48.682897Z"
    },
    "papermill": {
     "duration": 0.053361,
     "end_time": "2021-06-22T09:27:02.448081",
     "exception": false,
     "start_time": "2021-06-22T09:27:02.39472",
     "status": "completed"
    },
    "tags": [],
    "trusted": true
   },
   "outputs": [],
   "source": [
    "df = df.dropna( how='any',subset=['cast', 'director'])"
   ]
  },
  {
   "cell_type": "code",
   "execution_count": null,
   "metadata": {
    "execution": {
     "iopub.execute_input": "2025-02-18T19:24:48.696729Z",
     "iopub.status.busy": "2025-02-18T19:24:48.696455Z",
     "iopub.status.idle": "2025-02-18T19:24:48.706046Z",
     "shell.execute_reply": "2025-02-18T19:24:48.705336Z",
     "shell.execute_reply.started": "2025-02-18T19:24:48.696705Z"
    },
    "papermill": {
     "duration": 0.060312,
     "end_time": "2021-06-22T09:27:02.551437",
     "exception": false,
     "start_time": "2021-06-22T09:27:02.491125",
     "status": "completed"
    },
    "tags": [],
    "trusted": true
   },
   "outputs": [],
   "source": [
    "df.isna().sum()"
   ]
  },
  {
   "cell_type": "markdown",
   "metadata": {
    "papermill": {
     "duration": 0.042777,
     "end_time": "2021-06-22T09:27:02.637413",
     "exception": false,
     "start_time": "2021-06-22T09:27:02.594636",
     "status": "completed"
    },
    "tags": []
   },
   "source": [
    "- Every missing value in the dataset has been filled in or eliminated. There are no remaining missing values.\n"
   ]
  },
  {
   "cell_type": "code",
   "execution_count": null,
   "metadata": {
    "execution": {
     "iopub.execute_input": "2025-02-18T19:24:48.707979Z",
     "iopub.status.busy": "2025-02-18T19:24:48.707646Z",
     "iopub.status.idle": "2025-02-18T19:24:48.727973Z",
     "shell.execute_reply": "2025-02-18T19:24:48.727309Z",
     "shell.execute_reply.started": "2025-02-18T19:24:48.707926Z"
    },
    "papermill": {
     "duration": 0.070949,
     "end_time": "2021-06-22T09:27:02.751676",
     "exception": false,
     "start_time": "2021-06-22T09:27:02.680727",
     "status": "completed"
    },
    "tags": [],
    "trusted": true
   },
   "outputs": [],
   "source": [
    "df.duplicated().sum()"
   ]
  },
  {
   "cell_type": "markdown",
   "metadata": {
    "papermill": {
     "duration": 0.04378,
     "end_time": "2021-06-22T09:27:02.838957",
     "exception": false,
     "start_time": "2021-06-22T09:27:02.795177",
     "status": "completed"
    },
    "tags": []
   },
   "source": [
    "- No values in the dataset are duplicates.\n"
   ]
  },
  {
   "cell_type": "markdown",
   "metadata": {
    "papermill": {
     "duration": 0.043294,
     "end_time": "2021-06-22T09:27:02.925967",
     "exception": false,
     "start_time": "2021-06-22T09:27:02.882673",
     "status": "completed"
    },
    "tags": []
   },
   "source": [
    "### --> clearing the data"
   ]
  },
  {
   "cell_type": "markdown",
   "metadata": {
    "papermill": {
     "duration": 0.046031,
     "end_time": "2021-06-22T09:27:03.015898",
     "exception": false,
     "start_time": "2021-06-22T09:27:02.969867",
     "status": "completed"
    },
    "tags": []
   },
   "source": [
    "Adding some new columns:\n",
    "- listed_in - Genre\n",
    "* Year Added - year_add\n",
    "* Month Added - month_add\n",
    "* Princial Country - country_main "
   ]
  },
  {
   "cell_type": "code",
   "execution_count": null,
   "metadata": {
    "execution": {
     "iopub.execute_input": "2025-02-18T19:24:48.728989Z",
     "iopub.status.busy": "2025-02-18T19:24:48.728790Z",
     "iopub.status.idle": "2025-02-18T19:24:48.738406Z",
     "shell.execute_reply": "2025-02-18T19:24:48.737636Z",
     "shell.execute_reply.started": "2025-02-18T19:24:48.728970Z"
    },
    "trusted": true
   },
   "outputs": [],
   "source": [
    "#Rename the 'listed_in' column as 'Genre' for easy understanding\n",
    "df = df.rename(columns={\"listed_in\":\"Genre\"})\n",
    "\n",
    "df['Genre'] = df['Genre'].apply(lambda x: x.split(\",\")[0])\n",
    "\n",
    "df['Genre'].head()"
   ]
  },
  {
   "cell_type": "code",
   "execution_count": null,
   "metadata": {
    "execution": {
     "iopub.execute_input": "2025-02-18T19:24:48.739764Z",
     "iopub.status.busy": "2025-02-18T19:24:48.739472Z",
     "iopub.status.idle": "2025-02-18T19:24:48.752777Z",
     "shell.execute_reply": "2025-02-18T19:24:48.752036Z",
     "shell.execute_reply.started": "2025-02-18T19:24:48.739732Z"
    },
    "papermill": {
     "duration": 0.060955,
     "end_time": "2021-06-22T09:27:03.120568",
     "exception": false,
     "start_time": "2021-06-22T09:27:03.059613",
     "status": "completed"
    },
    "tags": [],
    "trusted": true
   },
   "outputs": [],
   "source": [
    "df['year_add'] = df['date_added'].apply(lambda x: x.split(\" \")[-1])\n",
    "\n",
    "df['year_add'].head()"
   ]
  },
  {
   "cell_type": "code",
   "execution_count": null,
   "metadata": {
    "execution": {
     "iopub.execute_input": "2025-02-18T19:24:48.754279Z",
     "iopub.status.busy": "2025-02-18T19:24:48.753882Z",
     "iopub.status.idle": "2025-02-18T19:24:48.765228Z",
     "shell.execute_reply": "2025-02-18T19:24:48.764461Z",
     "shell.execute_reply.started": "2025-02-18T19:24:48.754246Z"
    },
    "papermill": {
     "duration": 0.060476,
     "end_time": "2021-06-22T09:27:03.225275",
     "exception": false,
     "start_time": "2021-06-22T09:27:03.164799",
     "status": "completed"
    },
    "tags": [],
    "trusted": true
   },
   "outputs": [],
   "source": [
    "df['month_add'] = df['date_added'].apply(lambda x: x.split(\" \")[0])\n",
    "\n",
    "df['month_add'].head()"
   ]
  },
  {
   "cell_type": "code",
   "execution_count": null,
   "metadata": {
    "execution": {
     "iopub.execute_input": "2025-02-18T19:24:48.766388Z",
     "iopub.status.busy": "2025-02-18T19:24:48.766119Z",
     "iopub.status.idle": "2025-02-18T19:24:48.777527Z",
     "shell.execute_reply": "2025-02-18T19:24:48.776740Z",
     "shell.execute_reply.started": "2025-02-18T19:24:48.766365Z"
    },
    "papermill": {
     "duration": 0.061707,
     "end_time": "2021-06-22T09:27:03.437589",
     "exception": false,
     "start_time": "2021-06-22T09:27:03.375882",
     "status": "completed"
    },
    "tags": [],
    "trusted": true
   },
   "outputs": [],
   "source": [
    "df['country_main'] = df['country'].apply(lambda x: x.split(\",\")[0])\n",
    "\n",
    "df['country_main'].head()"
   ]
  },
  {
   "cell_type": "code",
   "execution_count": null,
   "metadata": {
    "execution": {
     "iopub.execute_input": "2025-02-18T19:24:48.778944Z",
     "iopub.status.busy": "2025-02-18T19:24:48.778578Z",
     "iopub.status.idle": "2025-02-18T19:24:48.787883Z",
     "shell.execute_reply": "2025-02-18T19:24:48.787192Z",
     "shell.execute_reply.started": "2025-02-18T19:24:48.778913Z"
    },
    "trusted": true
   },
   "outputs": [],
   "source": [
    "df['type'].value_counts()"
   ]
  },
  {
   "cell_type": "code",
   "execution_count": null,
   "metadata": {
    "execution": {
     "iopub.execute_input": "2025-02-18T19:24:48.789026Z",
     "iopub.status.busy": "2025-02-18T19:24:48.788828Z",
     "iopub.status.idle": "2025-02-18T19:24:48.800402Z",
     "shell.execute_reply": "2025-02-18T19:24:48.799555Z",
     "shell.execute_reply.started": "2025-02-18T19:24:48.789007Z"
    },
    "trusted": true
   },
   "outputs": [],
   "source": [
    "df['rating'].value_counts()"
   ]
  },
  {
   "cell_type": "markdown",
   "metadata": {
    "papermill": {
     "duration": 0.044206,
     "end_time": "2021-06-22T09:27:03.528288",
     "exception": false,
     "start_time": "2021-06-22T09:27:03.484082",
     "status": "completed"
    },
    "tags": []
   },
   "source": [
    "-- creating two new dataframes, one for the collection of films and the other for the collection of TV series:\n",
    "* movie_df\n",
    "* tv_df"
   ]
  },
  {
   "cell_type": "code",
   "execution_count": null,
   "metadata": {
    "execution": {
     "iopub.execute_input": "2025-02-18T19:24:48.801750Z",
     "iopub.status.busy": "2025-02-18T19:24:48.801404Z",
     "iopub.status.idle": "2025-02-18T19:24:48.809801Z",
     "shell.execute_reply": "2025-02-18T19:24:48.809257Z",
     "shell.execute_reply.started": "2025-02-18T19:24:48.801718Z"
    },
    "papermill": {
     "duration": 0.060657,
     "end_time": "2021-06-22T09:27:03.633611",
     "exception": false,
     "start_time": "2021-06-22T09:27:03.572954",
     "status": "completed"
    },
    "tags": [],
    "trusted": true
   },
   "outputs": [],
   "source": [
    "movie_df = df[df['type'] == 'Movie']\n",
    "\n",
    "\n",
    "tv_df = df[df['type'] == 'TV Show']"
   ]
  },
  {
   "cell_type": "code",
   "execution_count": null,
   "metadata": {
    "execution": {
     "iopub.execute_input": "2025-02-18T19:24:48.810859Z",
     "iopub.status.busy": "2025-02-18T19:24:48.810642Z",
     "iopub.status.idle": "2025-02-18T19:24:48.830141Z",
     "shell.execute_reply": "2025-02-18T19:24:48.829437Z",
     "shell.execute_reply.started": "2025-02-18T19:24:48.810833Z"
    },
    "papermill": {
     "duration": 0.06977,
     "end_time": "2021-06-22T09:27:03.748362",
     "exception": false,
     "start_time": "2021-06-22T09:27:03.678592",
     "status": "completed"
    },
    "tags": [],
    "trusted": true
   },
   "outputs": [],
   "source": [
    "movie_df.head()"
   ]
  },
  {
   "cell_type": "markdown",
   "metadata": {},
   "source": [
    "### --> An examination of the running time of films\n"
   ]
  },
  {
   "cell_type": "code",
   "execution_count": null,
   "metadata": {
    "execution": {
     "iopub.execute_input": "2025-02-18T19:24:48.831322Z",
     "iopub.status.busy": "2025-02-18T19:24:48.831061Z",
     "iopub.status.idle": "2025-02-18T19:24:48.850683Z",
     "shell.execute_reply": "2025-02-18T19:24:48.849798Z",
     "shell.execute_reply.started": "2025-02-18T19:24:48.831298Z"
    },
    "trusted": true
   },
   "outputs": [],
   "source": [
    "# Step 1: Replace ' min' with an empty string\n",
    "movie_df['duration'] = movie_df['duration'].str.replace(' min', '')\n",
    "\n",
    "# Step 2: Convert the column to numeric, coercing errors to NaN\n",
    "movie_df['duration'] = pd.to_numeric(movie_df['duration'], errors='coerce')\n",
    "\n",
    "# Step 3 (option 1): Drop rows with NaN values in 'duration' column\n",
    "movie_df = movie_df.dropna(subset=['duration'])\n",
    "\n",
    "# Optional: Convert 'duration' to integers after handling NaNs\n",
    "movie_df['duration'] = movie_df['duration'].astype(int)\n",
    "\n",
    "\n",
    "print(movie_df['duration'])\n"
   ]
  },
  {
   "cell_type": "markdown",
   "metadata": {},
   "source": [
    "# Descriptive Analytics "
   ]
  },
  {
   "cell_type": "markdown",
   "metadata": {},
   "source": [
    "### --> Movies Compared to TV Series"
   ]
  },
  {
   "cell_type": "code",
   "execution_count": null,
   "metadata": {
    "execution": {
     "iopub.execute_input": "2025-02-18T19:24:48.852007Z",
     "iopub.status.busy": "2025-02-18T19:24:48.851649Z",
     "iopub.status.idle": "2025-02-18T19:24:48.971891Z",
     "shell.execute_reply": "2025-02-18T19:24:48.971180Z",
     "shell.execute_reply.started": "2025-02-18T19:24:48.851971Z"
    },
    "trusted": true
   },
   "outputs": [],
   "source": [
    "\n",
    "sb.set(style=\"whitegrid\")\n",
    "sb.countplot(x=\"type\", data= df, palette=\"husl\")"
   ]
  },
  {
   "cell_type": "markdown",
   "metadata": {},
   "source": [
    "- Netflix has a greater selection of films than TV series.\n"
   ]
  },
  {
   "cell_type": "markdown",
   "metadata": {},
   "source": [
    "### --> Analysis of Movie and TV Show Ratings\n"
   ]
  },
  {
   "cell_type": "code",
   "execution_count": null,
   "metadata": {
    "execution": {
     "iopub.execute_input": "2025-02-18T19:24:48.972965Z",
     "iopub.status.busy": "2025-02-18T19:24:48.972762Z",
     "iopub.status.idle": "2025-02-18T19:24:49.208316Z",
     "shell.execute_reply": "2025-02-18T19:24:49.207551Z",
     "shell.execute_reply.started": "2025-02-18T19:24:48.972946Z"
    },
    "trusted": true
   },
   "outputs": [],
   "source": [
    "#MOVIES RATINGS\n",
    "plt.figure(figsize=(12,10))\n",
    "sb.set(style=\"dark\")\n",
    "sb.countplot(x=\"rating\", data= movie_df, palette=\"muted\", order=movie_df['rating'].value_counts().index[0:15])"
   ]
  },
  {
   "cell_type": "markdown",
   "metadata": {},
   "source": [
    "- The 'TV-MA' classification is used in the majority of films.A television programme intended solely for mature audiences is rated \"TV-MA\" by the TV Parental Guidelines. \n",
    "- The 'TV-14' category, which is the second largest, denotes programming that might not be suitable for children under the age of 14.\n",
    "- The highly appreciated 'R' grade comes in third place.A movie that has been classified R indicates that it contains content that may not be appropriate for viewers under the age of 17.\n"
   ]
  },
  {
   "cell_type": "code",
   "execution_count": null,
   "metadata": {
    "execution": {
     "iopub.execute_input": "2025-02-18T19:24:49.209551Z",
     "iopub.status.busy": "2025-02-18T19:24:49.209353Z",
     "iopub.status.idle": "2025-02-18T19:24:49.355904Z",
     "shell.execute_reply": "2025-02-18T19:24:49.355183Z",
     "shell.execute_reply.started": "2025-02-18T19:24:49.209531Z"
    },
    "trusted": true
   },
   "outputs": [],
   "source": [
    "# TV SHOWS RATINGS\n",
    "plt.figure(figsize=(12,10))\n",
    "sb.set(style=\"ticks\")\n",
    "sb.countplot(x=\"rating\", data=tv_df, palette=\"plasma\", order=tv_df['rating'].value_counts().index[0:15])"
   ]
  },
  {
   "cell_type": "markdown",
   "metadata": {},
   "source": [
    "- The majority of TV shows have a \"TV-14\" classification, indicating that the content may be unsuitable for viewers under the age of 14.\n",
    "- 'TV-MA', a TV show with content intended solely for mature audiences, has the second-highest rating count.\n",
    "- TV series have the fewest 'R' rated episodes.\n"
   ]
  },
  {
   "cell_type": "markdown",
   "metadata": {},
   "source": [
    "### --> Annual Content Analysis"
   ]
  },
  {
   "cell_type": "code",
   "execution_count": null,
   "metadata": {
    "execution": {
     "iopub.execute_input": "2025-02-18T19:24:49.357407Z",
     "iopub.status.busy": "2025-02-18T19:24:49.357056Z",
     "iopub.status.idle": "2025-02-18T19:24:49.685736Z",
     "shell.execute_reply": "2025-02-18T19:24:49.684951Z",
     "shell.execute_reply.started": "2025-02-18T19:24:49.357371Z"
    },
    "trusted": true
   },
   "outputs": [],
   "source": [
    "plt.figure(figsize=(12,10))\n",
    "sb.set(style=\"dark\")\n",
    "sb.countplot(y=\"release_year\", data= df, palette=\"plasma\", order= df['release_year'].value_counts().index[0:15],hue=df['type'])"
   ]
  },
  {
   "cell_type": "markdown",
   "metadata": {},
   "source": [
    "- It's evident that Netflix produced the most amount of content in 2017.\n",
    "- A discernible increase in the amount of information released dates back to 2015.\n"
   ]
  },
  {
   "cell_type": "code",
   "execution_count": null,
   "metadata": {
    "execution": {
     "iopub.execute_input": "2025-02-18T19:24:49.688941Z",
     "iopub.status.busy": "2025-02-18T19:24:49.688713Z",
     "iopub.status.idle": "2025-02-18T19:24:50.191940Z",
     "shell.execute_reply": "2025-02-18T19:24:50.191170Z",
     "shell.execute_reply.started": "2025-02-18T19:24:49.688917Z"
    },
    "trusted": true
   },
   "outputs": [],
   "source": [
    "sb.set(style=\"white\")\n",
    "sb.kdeplot(data=movie_df['duration'], shade=True)"
   ]
  },
  {
   "cell_type": "markdown",
   "metadata": {},
   "source": [
    "- Consequently, a sizable portion of Netflix's film selections fall into the **75-120 minute range.\n"
   ]
  },
  {
   "cell_type": "markdown",
   "metadata": {},
   "source": [
    "### --> trends in the length of films\n"
   ]
  },
  {
   "cell_type": "code",
   "execution_count": null,
   "metadata": {
    "execution": {
     "iopub.execute_input": "2025-02-18T19:24:50.194973Z",
     "iopub.status.busy": "2025-02-18T19:24:50.194673Z",
     "iopub.status.idle": "2025-02-18T19:24:50.425744Z",
     "shell.execute_reply": "2025-02-18T19:24:50.424928Z",
     "shell.execute_reply.started": "2025-02-18T19:24:50.194947Z"
    },
    "trusted": true
   },
   "outputs": [],
   "source": [
    "duration_year = movie_df.groupby(['release_year']).mean()\n",
    "duration_year = duration_year.sort_index()\n",
    "\n",
    "plt.figure(figsize=(15,6))\n",
    "sb.lineplot(x=duration_year.index, y=duration_year.duration.values)\n",
    "plt.box(on=None)\n",
    "plt.ylabel('Movie duration in minutes');\n",
    "plt.xlabel('Year of released');\n",
    "plt.title(\"Trends of Movie's Duration over the Years\", fontsize=20, color='Blue');"
   ]
  },
  {
   "cell_type": "markdown",
   "metadata": {},
   "source": [
    "- Movie runs from **1960 to 1965** averaged around **200 minutes; after 1965, runs got noticeably shorter.**\n",
    "- We can see a steady trend in movie lengths starting in the year **1980**, with a running time of about **between 100 and 150 minutes.**\n"
   ]
  },
  {
   "cell_type": "markdown",
   "metadata": {},
   "source": [
    "### --> Examination of TV Series with the highest amount of seasons\n"
   ]
  },
  {
   "cell_type": "code",
   "execution_count": null,
   "metadata": {
    "execution": {
     "iopub.execute_input": "2025-02-18T19:24:50.427289Z",
     "iopub.status.busy": "2025-02-18T19:24:50.426950Z",
     "iopub.status.idle": "2025-02-18T19:24:50.436455Z",
     "shell.execute_reply": "2025-02-18T19:24:50.435777Z",
     "shell.execute_reply.started": "2025-02-18T19:24:50.427253Z"
    },
    "trusted": true
   },
   "outputs": [],
   "source": [
    "tv_df['duration']=tv_df['duration'].str.replace(' Season','')\n",
    "tv_df['duration']=tv_df['duration'].str.replace('s','')\n",
    "tv_df['duration']=tv_df['duration'].astype(str).astype(int)\n",
    "tv_df['duration']"
   ]
  },
  {
   "cell_type": "markdown",
   "metadata": {},
   "source": [
    "--> Titles of TV shows and the number of seasons they have:\n"
   ]
  },
  {
   "cell_type": "code",
   "execution_count": null,
   "metadata": {
    "execution": {
     "iopub.execute_input": "2025-02-18T19:24:50.437673Z",
     "iopub.status.busy": "2025-02-18T19:24:50.437451Z",
     "iopub.status.idle": "2025-02-18T19:24:50.445214Z",
     "shell.execute_reply": "2025-02-18T19:24:50.444388Z",
     "shell.execute_reply.started": "2025-02-18T19:24:50.437650Z"
    },
    "trusted": true
   },
   "outputs": [],
   "source": [
    "#Extract the columns from tv_df\n",
    "columns=['title','duration']\n",
    "tv_shows = tv_df[columns]"
   ]
  },
  {
   "cell_type": "code",
   "execution_count": null,
   "metadata": {
    "execution": {
     "iopub.execute_input": "2025-02-18T19:24:50.446703Z",
     "iopub.status.busy": "2025-02-18T19:24:50.446375Z",
     "iopub.status.idle": "2025-02-18T19:24:50.460334Z",
     "shell.execute_reply": "2025-02-18T19:24:50.459594Z",
     "shell.execute_reply.started": "2025-02-18T19:24:50.446669Z"
    },
    "trusted": true
   },
   "outputs": [],
   "source": [
    "#sort the dataframe by number of seasons\n",
    "tv_shows = tv_shows.sort_values(by='duration',ascending=False)\n",
    "tv_shows\n",
    "top20 = tv_shows[0:20]\n",
    "top20"
   ]
  },
  {
   "cell_type": "code",
   "execution_count": null,
   "metadata": {
    "execution": {
     "iopub.execute_input": "2025-02-18T19:24:50.461446Z",
     "iopub.status.busy": "2025-02-18T19:24:50.461224Z",
     "iopub.status.idle": "2025-02-18T19:24:50.786673Z",
     "shell.execute_reply": "2025-02-18T19:24:50.785940Z",
     "shell.execute_reply.started": "2025-02-18T19:24:50.461424Z"
    },
    "trusted": true
   },
   "outputs": [],
   "source": [
    "plt.figure(figsize=(10,6))\n",
    "top20.plot(kind='bar',x='title',y='duration', color='black')"
   ]
  },
  {
   "cell_type": "markdown",
   "metadata": {},
   "source": [
    "- **Naruto and Supernatural** have the most seasons.\n"
   ]
  },
  {
   "cell_type": "code",
   "execution_count": null,
   "metadata": {
    "execution": {
     "iopub.execute_input": "2025-02-18T19:24:50.788078Z",
     "iopub.status.busy": "2025-02-18T19:24:50.787756Z",
     "iopub.status.idle": "2025-02-18T19:24:50.918745Z",
     "shell.execute_reply": "2025-02-18T19:24:50.917998Z",
     "shell.execute_reply.started": "2025-02-18T19:24:50.788045Z"
    },
    "trusted": true
   },
   "outputs": [],
   "source": [
    "# TV SHOWS AND THEIR SEASONS\n",
    "plt.figure(figsize=(8, 6))\n",
    "labels=['1 Season', '2 Season', '3 Season']\n",
    "_, _, texts = plt.pie(df.duration.value_counts()[:3], labels=labels, autopct='%1.2f%%', startangle=90, \n",
    "                      explode=(0.0, 0.1, 0.2), colors=['#FF6347', '#4682B4', '#8A2BE2'])\n",
    "plt.axis('equal')\n",
    "plt.title('Seasons Available on Netflix', fontsize=20, fontweight='bold');\n",
    "for text in texts:\n",
    "    text.set_color('white')"
   ]
  },
  {
   "cell_type": "markdown",
   "metadata": {},
   "source": [
    "- We can analyse the chart and find that **35.04% of TV shows have only one season, 32.48% have two seasons, and 32.48% have three seasons**."
   ]
  },
  {
   "cell_type": "markdown",
   "metadata": {},
   "source": [
    "### --> Top nations for producing film content"
   ]
  },
  {
   "cell_type": "code",
   "execution_count": null,
   "metadata": {
    "execution": {
     "iopub.execute_input": "2025-02-18T19:24:50.920224Z",
     "iopub.status.busy": "2025-02-18T19:24:50.919893Z",
     "iopub.status.idle": "2025-02-18T19:24:51.166826Z",
     "shell.execute_reply": "2025-02-18T19:24:51.166128Z",
     "shell.execute_reply.started": "2025-02-18T19:24:50.920192Z"
    },
    "trusted": true
   },
   "outputs": [],
   "source": [
    "plt.figure(figsize=(15,8))\n",
    "sb.set(style=\"dark\")\n",
    "sb.countplot(x=\"country_main\", data=movie_df, palette=\"plasma\", order=movie_df['country_main'].value_counts().index[0:15])"
   ]
  },
  {
   "cell_type": "markdown",
   "metadata": {},
   "source": [
    "- **United States** produces the most films, with ***India and UK*** coming in second and third.\n",
    "\n"
   ]
  },
  {
   "cell_type": "markdown",
   "metadata": {},
   "source": [
    "### --> Top nations for producing TV show content\n"
   ]
  },
  {
   "cell_type": "code",
   "execution_count": null,
   "metadata": {
    "execution": {
     "iopub.execute_input": "2025-02-18T19:24:51.167996Z",
     "iopub.status.busy": "2025-02-18T19:24:51.167771Z",
     "iopub.status.idle": "2025-02-18T19:24:51.429811Z",
     "shell.execute_reply": "2025-02-18T19:24:51.429145Z",
     "shell.execute_reply.started": "2025-02-18T19:24:51.167974Z"
    },
    "trusted": true
   },
   "outputs": [],
   "source": [
    "plt.figure(figsize=(18,8))\n",
    "sb.set(style=\"white\")\n",
    "sb.countplot(x=\"country_main\", data=tv_df, palette=\"plasma\", order=tv_df['country_main'].value_counts().index[0:15])"
   ]
  },
  {
   "cell_type": "markdown",
   "metadata": {},
   "source": [
    "- **South Korea, Japan, the United States, and the United Kingdom** produce the majority of the TV shows on Netflix.\n"
   ]
  },
  {
   "cell_type": "markdown",
   "metadata": {},
   "source": [
    "### --> Recognising the stuff that is accessible in various nations\n"
   ]
  },
  {
   "cell_type": "code",
   "execution_count": null,
   "metadata": {
    "execution": {
     "iopub.execute_input": "2025-02-18T19:24:51.430885Z",
     "iopub.status.busy": "2025-02-18T19:24:51.430657Z",
     "iopub.status.idle": "2025-02-18T19:24:51.435173Z",
     "shell.execute_reply": "2025-02-18T19:24:51.434306Z",
     "shell.execute_reply.started": "2025-02-18T19:24:51.430862Z"
    },
    "trusted": true
   },
   "outputs": [],
   "source": [
    "# Different Genres from Countries\n",
    "columns=['Genre','country_main']\n",
    "gen_country = df[columns]"
   ]
  },
  {
   "cell_type": "code",
   "execution_count": null,
   "metadata": {
    "execution": {
     "iopub.execute_input": "2025-02-18T19:24:51.436288Z",
     "iopub.status.busy": "2025-02-18T19:24:51.436026Z",
     "iopub.status.idle": "2025-02-18T19:24:51.447154Z",
     "shell.execute_reply": "2025-02-18T19:24:51.446480Z",
     "shell.execute_reply.started": "2025-02-18T19:24:51.436266Z"
    },
    "trusted": true
   },
   "outputs": [],
   "source": [
    "gen_country.head()"
   ]
  },
  {
   "cell_type": "code",
   "execution_count": null,
   "metadata": {
    "execution": {
     "iopub.execute_input": "2025-02-18T19:24:51.448336Z",
     "iopub.status.busy": "2025-02-18T19:24:51.448075Z",
     "iopub.status.idle": "2025-02-18T19:24:51.457468Z",
     "shell.execute_reply": "2025-02-18T19:24:51.456771Z",
     "shell.execute_reply.started": "2025-02-18T19:24:51.448314Z"
    },
    "trusted": true
   },
   "outputs": [],
   "source": [
    "gen_country['Genre'].value_counts()"
   ]
  },
  {
   "cell_type": "code",
   "execution_count": null,
   "metadata": {
    "execution": {
     "iopub.execute_input": "2025-02-18T19:24:51.458605Z",
     "iopub.status.busy": "2025-02-18T19:24:51.458308Z",
     "iopub.status.idle": "2025-02-18T19:24:51.468245Z",
     "shell.execute_reply": "2025-02-18T19:24:51.467530Z",
     "shell.execute_reply.started": "2025-02-18T19:24:51.458582Z"
    },
    "trusted": true
   },
   "outputs": [],
   "source": [
    "size = gen_country['Genre'].value_counts().tolist()\n",
    "size"
   ]
  },
  {
   "cell_type": "code",
   "execution_count": null,
   "metadata": {
    "execution": {
     "iopub.execute_input": "2025-02-18T19:24:51.469283Z",
     "iopub.status.busy": "2025-02-18T19:24:51.469024Z",
     "iopub.status.idle": "2025-02-18T19:24:52.055307Z",
     "shell.execute_reply": "2025-02-18T19:24:52.054406Z",
     "shell.execute_reply.started": "2025-02-18T19:24:51.469247Z"
    },
    "trusted": true
   },
   "outputs": [],
   "source": [
    "# GENRES BY COUNTRIES\n",
    "import squarify\n",
    "plt.figure(figsize=(30,15))\n",
    "squarify.plot(value= gen_country['Genre'], label= gen_country['country_main'], sizes= size, alpha=0.8)\n",
    "plt.rc('font', size=8)\n",
    "plt.show()"
   ]
  },
  {
   "cell_type": "markdown",
   "metadata": {},
   "source": [
    "- The majority of content in the comedy and children's and family movie genres is produced in the United States."
   ]
  },
  {
   "cell_type": "markdown",
   "metadata": {},
   "source": [
    "### --> Contents published throughout years"
   ]
  },
  {
   "cell_type": "code",
   "execution_count": null,
   "metadata": {
    "execution": {
     "iopub.execute_input": "2025-02-18T19:24:52.056809Z",
     "iopub.status.busy": "2025-02-18T19:24:52.056498Z",
     "iopub.status.idle": "2025-02-18T19:24:52.244010Z",
     "shell.execute_reply": "2025-02-18T19:24:52.243283Z",
     "shell.execute_reply.started": "2025-02-18T19:24:52.056777Z"
    },
    "trusted": true
   },
   "outputs": [],
   "source": [
    "release = df['release_year'].value_counts()\n",
    "release = release.sort_index(ascending=True)\n",
    "\n",
    "plt.figure(figsize=(9,7))\n",
    "plt.plot(release[-11:-1])\n",
    "plt.scatter(release[-11:-1].index, release[-11:-1].values, s=0.5*release[-11:-1].values, c='blue');\n",
    "plt.box(on=None);\n",
    "plt.xticks(rotation = 60)\n",
    "plt.xticks(release[-11:-1].index);\n",
    "plt.title('Number of Content Released by Year', color='blue', fontsize=20);"
   ]
  },
  {
   "cell_type": "markdown",
   "metadata": {},
   "source": [
    "### --> Directors who have made the most amount of films\n"
   ]
  },
  {
   "cell_type": "code",
   "execution_count": null,
   "metadata": {
    "execution": {
     "iopub.execute_input": "2025-02-18T19:24:52.245508Z",
     "iopub.status.busy": "2025-02-18T19:24:52.245183Z",
     "iopub.status.idle": "2025-02-18T19:24:52.486924Z",
     "shell.execute_reply": "2025-02-18T19:24:52.486199Z",
     "shell.execute_reply.started": "2025-02-18T19:24:52.245473Z"
    },
    "trusted": true
   },
   "outputs": [],
   "source": [
    "plt.figure(figsize=(10,8))\n",
    "sb.barplot(y= movie_df.director.value_counts()[:10].sort_values().index, x=movie_df.director.value_counts()[:10].sort_values().values);\n",
    "plt.title('Director with most number of movies', color='pink', fontsize=18)\n",
    "plt.xticks(movie_df.director.value_counts()[:10].sort_values().values);\n",
    "plt.xlabel('Number of Movies Released');\n"
   ]
  },
  {
   "cell_type": "markdown",
   "metadata": {},
   "source": [
    "- **Highest number of films produced by Jan Suter and Raul Campos: 18** have been released on Netflix thus far.\n"
   ]
  },
  {
   "cell_type": "code",
   "execution_count": null,
   "metadata": {
    "execution": {
     "iopub.execute_input": "2025-02-18T19:24:52.488442Z",
     "iopub.status.busy": "2025-02-18T19:24:52.488102Z",
     "iopub.status.idle": "2025-02-18T19:24:52.725744Z",
     "shell.execute_reply": "2025-02-18T19:24:52.724921Z",
     "shell.execute_reply.started": "2025-02-18T19:24:52.488407Z"
    },
    "trusted": true
   },
   "outputs": [],
   "source": [
    "plt.figure(figsize=(10,8))\n",
    "sb.barplot(y= tv_df.director.value_counts()[:10].sort_values().index, x=tv_df.director.value_counts()[:10].sort_values().values);\n",
    "plt.title('Director with most number of TV Shows', color='blue', fontsize=18)\n",
    "plt.xticks(tv_df.director.value_counts()[:10].sort_values().values);\n",
    "plt.xlabel('Number of Series Released');"
   ]
  },
  {
   "cell_type": "markdown",
   "metadata": {},
   "source": [
    "- **The maximum number of TV shows: 3** were published on Netflix by director **Alastair Fothergill**.\n"
   ]
  },
  {
   "cell_type": "markdown",
   "metadata": {},
   "source": [
    "### --> Netflix's Most Popular Genre"
   ]
  },
  {
   "cell_type": "code",
   "execution_count": null,
   "metadata": {
    "execution": {
     "iopub.execute_input": "2025-02-18T19:24:52.727106Z",
     "iopub.status.busy": "2025-02-18T19:24:52.726791Z",
     "iopub.status.idle": "2025-02-18T19:24:52.979977Z",
     "shell.execute_reply": "2025-02-18T19:24:52.979171Z",
     "shell.execute_reply.started": "2025-02-18T19:24:52.727077Z"
    },
    "trusted": true
   },
   "outputs": [],
   "source": [
    "plt.figure(figsize=(18,10))\n",
    "sb.barplot(x= df.Genre.value_counts()[:10].sort_values().index, y=df.Genre.value_counts()[:10].sort_values().values,palette='plasma');\n",
    "plt.title('Most Popular Genre', color='green', fontsize=20)\n",
    "plt.yticks(df.Genre.value_counts()[:10].sort_values().values);\n",
    "plt.xlabel('GENRES');\n",
    "plt.ylabel('Number of contents');"
   ]
  },
  {
   "cell_type": "markdown",
   "metadata": {},
   "source": [
    "- **Netflix is aware of how much drama we all like! :p**"
   ]
  },
  {
   "cell_type": "markdown",
   "metadata": {},
   "source": [
    "### --> Top Netflix actors and actresses\n"
   ]
  },
  {
   "cell_type": "code",
   "execution_count": null,
   "metadata": {
    "execution": {
     "iopub.execute_input": "2025-02-18T19:24:52.981415Z",
     "iopub.status.busy": "2025-02-18T19:24:52.981159Z",
     "iopub.status.idle": "2025-02-18T19:24:53.342929Z",
     "shell.execute_reply": "2025-02-18T19:24:53.342187Z",
     "shell.execute_reply.started": "2025-02-18T19:24:52.981385Z"
    },
    "trusted": true
   },
   "outputs": [],
   "source": [
    "plt.figure(figsize=(18,14))\n",
    "sb.barplot(y= df.cast.value_counts()[:15].sort_values().index, x=df.cast.value_counts()[:15].sort_values().values,palette='plasma');\n",
    "plt.title('Top Actor/Actresses on Netflix', color='green', fontsize=30)\n",
    "plt.xticks(df.cast.value_counts()[:10].sort_values().values);\n",
    "plt.ylabel('Actor/Actresses', fontsize=25);\n",
    "plt.xlabel('Content counts', fontsize=25);"
   ]
  },
  {
   "cell_type": "markdown",
   "metadata": {},
   "source": [
    "- The actor **'Samuel West'** has the most Netflix films and TV series."
   ]
  },
  {
   "cell_type": "markdown",
   "metadata": {},
   "source": [
    "### --> The ideal month for content releases from filmmakers\n"
   ]
  },
  {
   "cell_type": "markdown",
   "metadata": {},
   "source": [
    "- We can examine the months when the least amount of content is added to determine which months would be ideal for directors to release their work in order to capture the interest of a larger audience.\n"
   ]
  },
  {
   "cell_type": "code",
   "execution_count": null,
   "metadata": {
    "execution": {
     "iopub.execute_input": "2025-02-18T19:24:53.344251Z",
     "iopub.status.busy": "2025-02-18T19:24:53.343972Z",
     "iopub.status.idle": "2025-02-18T19:24:53.363103Z",
     "shell.execute_reply": "2025-02-18T19:24:53.362394Z",
     "shell.execute_reply.started": "2025-02-18T19:24:53.344210Z"
    },
    "trusted": true
   },
   "outputs": [],
   "source": [
    "df_copy = df.copy()\n",
    "net_date = df_copy[['date_added']]\n",
    "net_date['year'] = net_date['date_added'].apply(lambda x : x.split(', ')[-1])\n",
    "net_date['month'] = net_date['date_added'].apply(lambda x : x.lstrip().split(' ')[0])\n",
    "\n",
    "month_order = ['January', 'February', 'March', 'April', 'May', 'June', 'July', 'August', 'September', 'October', 'November', 'December'][::-1]\n",
    "df_copy = net_date.groupby('year')['month'].value_counts().unstack().fillna(0)[month_order].T\n"
   ]
  },
  {
   "cell_type": "code",
   "execution_count": null,
   "metadata": {
    "execution": {
     "iopub.execute_input": "2025-02-18T19:24:53.364250Z",
     "iopub.status.busy": "2025-02-18T19:24:53.364016Z",
     "iopub.status.idle": "2025-02-18T19:24:53.805086Z",
     "shell.execute_reply": "2025-02-18T19:24:53.804328Z",
     "shell.execute_reply.started": "2025-02-18T19:24:53.364228Z"
    },
    "trusted": true
   },
   "outputs": [],
   "source": [
    "plt.figure(figsize=(10, 7), dpi=200)\n",
    "plt.pcolor(df_copy, cmap='coolwarm', edgecolors='black', linewidths=2) # heatmap\n",
    "plt.xticks(np.arange(0.5, len(df_copy.columns), 1), df_copy.columns, fontsize=7, fontfamily='serif')\n",
    "plt.yticks(np.arange(0.5, len(df_copy.index), 1), df_copy.index, fontsize=7, fontfamily='serif')\n",
    "\n",
    "plt.title('Netflix Contents Update', fontsize=12, fontfamily='calibri', fontweight='bold')\n",
    "cbar = plt.colorbar()\n",
    "cbar.solids.set_edgecolor(\"face\")\n",
    "\n",
    "cbar.ax.tick_params(labelsize=8) \n",
    "cbar.ax.minorticks_on()\n",
    "plt.show()"
   ]
  },
  {
   "cell_type": "markdown",
   "metadata": {},
   "source": [
    "# Diagnostic Analytics"
   ]
  },
  {
   "cell_type": "markdown",
   "metadata": {},
   "source": [
    "# Release Year vs. Movie Duration:"
   ]
  },
  {
   "cell_type": "markdown",
   "metadata": {},
   "source": [
    "Examine the connection between a film's runtime and its year of release."
   ]
  },
  {
   "cell_type": "code",
   "execution_count": null,
   "metadata": {
    "execution": {
     "iopub.execute_input": "2025-02-18T19:24:53.806658Z",
     "iopub.status.busy": "2025-02-18T19:24:53.806348Z",
     "iopub.status.idle": "2025-02-18T19:24:56.309728Z",
     "shell.execute_reply": "2025-02-18T19:24:56.308951Z",
     "shell.execute_reply.started": "2025-02-18T19:24:53.806628Z"
    },
    "trusted": true
   },
   "outputs": [],
   "source": [
    "plt.figure(figsize=(15,8))\n",
    "sb.scatterplot(x='release_year', y='duration', data=movie_df, hue='country_main', palette='viridis', alpha=0.7)\n",
    "plt.title('Release Year vs. Movie Duration', fontsize=20)\n",
    "plt.xlabel('Release Year')\n",
    "plt.ylabel('Movie Duration (minutes)')\n",
    "plt.legend(title='Country')\n",
    "plt.show()"
   ]
  },
  {
   "cell_type": "markdown",
   "metadata": {},
   "source": [
    "This scatter plot helps to diagnose trends in movie duration over the years and how it varies by country."
   ]
  },
  {
   "cell_type": "markdown",
   "metadata": {},
   "source": [
    "### Genre Popularity Over Time:"
   ]
  },
  {
   "cell_type": "markdown",
   "metadata": {},
   "source": [
    "Analyse the shifts in the popularity of various genres throughout time.\n"
   ]
  },
  {
   "cell_type": "code",
   "execution_count": null,
   "metadata": {
    "execution": {
     "iopub.execute_input": "2025-02-18T19:24:56.310959Z",
     "iopub.status.busy": "2025-02-18T19:24:56.310723Z",
     "iopub.status.idle": "2025-02-18T19:24:57.118710Z",
     "shell.execute_reply": "2025-02-18T19:24:57.117929Z",
     "shell.execute_reply.started": "2025-02-18T19:24:56.310935Z"
    },
    "trusted": true
   },
   "outputs": [],
   "source": [
    "genre_year = df.groupby(['release_year', 'Genre']).size().reset_index(name='counts')\n",
    "plt.figure(figsize=(15,8))\n",
    "sb.lineplot(x='release_year', y='counts', hue='Genre', data=genre_year, marker='o', palette='tab10')\n",
    "plt.title('Genre Popularity Over Time', fontsize=20)\n",
    "plt.xlabel('Release Year')\n",
    "plt.ylabel('Number of Releases')\n",
    "plt.legend(title='Genre')\n",
    "plt.show()"
   ]
  },
  {
   "cell_type": "markdown",
   "metadata": {},
   "source": [
    "This line plot analyses how audience tastes have changed over time by tracking the popularity of various genres.\n"
   ]
  },
  {
   "cell_type": "markdown",
   "metadata": {},
   "source": [
    "### Country-wise Content Release Analysis:"
   ]
  },
  {
   "cell_type": "markdown",
   "metadata": {},
   "source": [
    "Examine the trends in content release over time for the leading nations."
   ]
  },
  {
   "cell_type": "code",
   "execution_count": null,
   "metadata": {
    "execution": {
     "iopub.execute_input": "2025-02-18T19:24:57.119942Z",
     "iopub.status.busy": "2025-02-18T19:24:57.119714Z",
     "iopub.status.idle": "2025-02-18T19:24:57.481269Z",
     "shell.execute_reply": "2025-02-18T19:24:57.480492Z",
     "shell.execute_reply.started": "2025-02-18T19:24:57.119920Z"
    },
    "trusted": true
   },
   "outputs": [],
   "source": [
    "top_countries = df['country_main'].value_counts().nlargest(10).index\n",
    "country_year = df[df['country_main'].isin(top_countries)].groupby(['release_year', 'country_main']).size().reset_index(name='counts')\n",
    "\n",
    "plt.figure(figsize=(15,8))\n",
    "sb.lineplot(x='release_year', y='counts', hue='country_main', data=country_year, marker='o', palette='tab20')\n",
    "plt.title('Content Release Patterns of Top Countries Over the Years', fontsize=20)\n",
    "plt.xlabel('Release Year')\n",
    "plt.ylabel('Number of Releases')\n",
    "plt.legend(title='Country')\n",
    "plt.show()"
   ]
  },
  {
   "cell_type": "markdown",
   "metadata": {},
   "source": [
    "Understanding regional trends in content production is aided by this line plot, which examines the patterns of content release for the top nations."
   ]
  },
  {
   "cell_type": "markdown",
   "metadata": {},
   "source": [
    "### Director Productivity Analysis:"
   ]
  },
  {
   "cell_type": "markdown",
   "metadata": {},
   "source": [
    "Examine the senior directors' historical production over time."
   ]
  },
  {
   "cell_type": "code",
   "execution_count": null,
   "metadata": {
    "execution": {
     "iopub.execute_input": "2025-02-18T19:24:57.482761Z",
     "iopub.status.busy": "2025-02-18T19:24:57.482446Z",
     "iopub.status.idle": "2025-02-18T19:24:57.830749Z",
     "shell.execute_reply": "2025-02-18T19:24:57.829956Z",
     "shell.execute_reply.started": "2025-02-18T19:24:57.482723Z"
    },
    "trusted": true
   },
   "outputs": [],
   "source": [
    "top_directors = df['director'].value_counts().nlargest(10).index\n",
    "director_year = df[df['director'].isin(top_directors)].groupby(['release_year', 'director']).size().reset_index(name='counts')\n",
    "\n",
    "plt.figure(figsize=(15,8))\n",
    "sb.lineplot(x='release_year', y='counts', hue='director', data=director_year, marker='o', palette='tab10')\n",
    "plt.title('Productivity of Top Directors Over the Years', fontsize=20)\n",
    "plt.xlabel('Release Year')\n",
    "plt.ylabel('Number of Releases')\n",
    "plt.legend(title='Director')\n",
    "plt.show()"
   ]
  },
  {
   "cell_type": "markdown",
   "metadata": {},
   "source": [
    "The production tendencies of eminent filmmakers are examined in this line plot across time, highlighting their contribution to Netflix's content collection."
   ]
  },
  {
   "cell_type": "markdown",
   "metadata": {},
   "source": [
    "# Predictive Analytics"
   ]
  },
  {
   "cell_type": "markdown",
   "metadata": {},
   "source": [
    "Netflix Recommendation System"
   ]
  },
  {
   "cell_type": "markdown",
   "metadata": {},
   "source": [
    "## Content Based Filtering"
   ]
  },
  {
   "cell_type": "markdown",
   "metadata": {},
   "source": [
    "- The content of the film (actor, synopsis, director, genre, etc.) is used by this recommender system to determine how similar it is to other films. Next, suggested films are those that are most likely to be comparable.\n"
   ]
  },
  {
   "cell_type": "markdown",
   "metadata": {},
   "source": [
    "![](https://miro.medium.com/max/998/1*O_GU8xLVlFx8WweIzKNCNw.png)"
   ]
  },
  {
   "cell_type": "markdown",
   "metadata": {},
   "source": [
    "## Based on the plot description, recommender\n"
   ]
  },
  {
   "cell_type": "markdown",
   "metadata": {},
   "source": [
    "- Based on the storyline descriptions of each movie, we will determine a similarity score for each one and make recommendations for other films based on that score. The **description** feature of our dataset contains the plot description.\n"
   ]
  },
  {
   "cell_type": "code",
   "execution_count": null,
   "metadata": {
    "execution": {
     "iopub.execute_input": "2025-02-18T19:24:57.831903Z",
     "iopub.status.busy": "2025-02-18T19:24:57.831691Z",
     "iopub.status.idle": "2025-02-18T19:24:57.837501Z",
     "shell.execute_reply": "2025-02-18T19:24:57.836721Z",
     "shell.execute_reply.started": "2025-02-18T19:24:57.831882Z"
    },
    "trusted": true
   },
   "outputs": [],
   "source": [
    "df['description'].head()"
   ]
  },
  {
   "cell_type": "markdown",
   "metadata": {},
   "source": [
    "- Every overview's word vector has to be converted.For every description, we will calculate the TF-IDF (Term Frequency-Inverse Document Frequency) vectors.Each word's total significance to the papers in which it appears is equal to TF * IDF.By doing this, the relevance of terms that often appear in plot overviews is diminished, and as a result, their impact in determining the final similarity score is decreased.\n"
   ]
  },
  {
   "cell_type": "code",
   "execution_count": null,
   "metadata": {
    "execution": {
     "iopub.execute_input": "2025-02-18T19:24:57.838789Z",
     "iopub.status.busy": "2025-02-18T19:24:57.838530Z",
     "iopub.status.idle": "2025-02-18T19:24:57.989253Z",
     "shell.execute_reply": "2025-02-18T19:24:57.988631Z",
     "shell.execute_reply.started": "2025-02-18T19:24:57.838766Z"
    },
    "trusted": true
   },
   "outputs": [],
   "source": [
    "from sklearn.feature_extraction.text import TfidfVectorizer\n",
    "# Import linear_kernel\n",
    "from sklearn.metrics.pairwise import linear_kernel\n",
    "#Define a TF-IDF Vectorizer Object. Remove all english stop words such as 'the', 'a'\n",
    "tfidf = TfidfVectorizer(stop_words='english')"
   ]
  },
  {
   "cell_type": "code",
   "execution_count": null,
   "metadata": {
    "execution": {
     "iopub.execute_input": "2025-02-18T19:24:57.990613Z",
     "iopub.status.busy": "2025-02-18T19:24:57.990293Z",
     "iopub.status.idle": "2025-02-18T19:24:58.125369Z",
     "shell.execute_reply": "2025-02-18T19:24:58.124697Z",
     "shell.execute_reply.started": "2025-02-18T19:24:57.990581Z"
    },
    "trusted": true
   },
   "outputs": [],
   "source": [
    "#Define a TF-IDF Vectorizer Object. Remove all english stop words such as 'the', 'a'\n",
    "tfidf = TfidfVectorizer(stop_words='english')\n",
    "\n",
    "#Replace NaN with an empty string\n",
    "df['description'] = df['description'].fillna('')\n",
    "\n",
    "#Construct the required TF-IDF matrix by fitting and transforming the data\n",
    "tfidf_matrix = tfidf.fit_transform(df['description'])\n",
    "\n",
    "#Output the shape of tfidf_matrix\n",
    "tfidf_matrix.shape"
   ]
  },
  {
   "cell_type": "markdown",
   "metadata": {},
   "source": [
    "- The cosine similarity score may be obtained straight from the dot product calculation because the TF-IDF vectorizer was utilised. Because it is quicker, we will instead utilise **linear_kernel()** from sklearn rather than cosine_similarities()."
   ]
  },
  {
   "cell_type": "code",
   "execution_count": null,
   "metadata": {
    "execution": {
     "iopub.execute_input": "2025-02-18T19:24:58.126416Z",
     "iopub.status.busy": "2025-02-18T19:24:58.126216Z",
     "iopub.status.idle": "2025-02-18T19:24:58.555423Z",
     "shell.execute_reply": "2025-02-18T19:24:58.554745Z",
     "shell.execute_reply.started": "2025-02-18T19:24:58.126395Z"
    },
    "trusted": true
   },
   "outputs": [],
   "source": [
    "# Import linear_kernel\n",
    "from sklearn.metrics.pairwise import linear_kernel\n",
    "\n",
    "# Compute the cosine similarity matrix\n",
    "cosine_sim = linear_kernel(tfidf_matrix, tfidf_matrix)"
   ]
  },
  {
   "cell_type": "markdown",
   "metadata": {},
   "source": [
    "- Given a movie's title, we require a way to determine its index in our metadata DataFrame."
   ]
  },
  {
   "cell_type": "code",
   "execution_count": null,
   "metadata": {
    "execution": {
     "iopub.execute_input": "2025-02-18T19:24:58.556675Z",
     "iopub.status.busy": "2025-02-18T19:24:58.556440Z",
     "iopub.status.idle": "2025-02-18T19:24:58.561650Z",
     "shell.execute_reply": "2025-02-18T19:24:58.560858Z",
     "shell.execute_reply.started": "2025-02-18T19:24:58.556653Z"
    },
    "trusted": true
   },
   "outputs": [],
   "source": [
    "#Construct a reverse map of indices and movie titles\n",
    "indices = pd.Series(df.index, index=df['title']).drop_duplicates()"
   ]
  },
  {
   "cell_type": "markdown",
   "metadata": {},
   "source": [
    "- Let's develop a function that returns a list of the ten most comparable movies when given a movie title as input."
   ]
  },
  {
   "cell_type": "code",
   "execution_count": null,
   "metadata": {
    "execution": {
     "iopub.execute_input": "2025-02-18T19:24:58.562840Z",
     "iopub.status.busy": "2025-02-18T19:24:58.562620Z",
     "iopub.status.idle": "2025-02-18T19:24:58.570852Z",
     "shell.execute_reply": "2025-02-18T19:24:58.570186Z",
     "shell.execute_reply.started": "2025-02-18T19:24:58.562818Z"
    },
    "trusted": true
   },
   "outputs": [],
   "source": [
    "def get_recommendations(title, cosine_sim=cosine_sim):\n",
    "    idx = indices[title]\n",
    "\n",
    "    # Get the pairwsie similarity scores of all movies with that movie\n",
    "    sim_scores = list(enumerate(cosine_sim[idx]))\n",
    "\n",
    "    # Sort the movies based on the similarity scores\n",
    "    sim_scores = sorted(sim_scores, key=lambda x: x[1], reverse=True)\n",
    "\n",
    "    # Get the scores of the 10 most similar movies\n",
    "    sim_scores = sim_scores[1:11]\n",
    "\n",
    "    # Get the movie indices\n",
    "    movie_indices = [i[0] for i in sim_scores]\n",
    "\n",
    "    # Return the top 10 most similar movies\n",
    "    return df['title'].iloc[movie_indices]"
   ]
  },
  {
   "cell_type": "code",
   "execution_count": null,
   "metadata": {
    "execution": {
     "iopub.execute_input": "2025-02-18T19:24:58.571958Z",
     "iopub.status.busy": "2025-02-18T19:24:58.571741Z",
     "iopub.status.idle": "2025-02-18T19:24:58.587198Z",
     "shell.execute_reply": "2025-02-18T19:24:58.586457Z",
     "shell.execute_reply.started": "2025-02-18T19:24:58.571937Z"
    },
    "trusted": true
   },
   "outputs": [],
   "source": [
    "get_recommendations('#realityhigh')"
   ]
  },
  {
   "cell_type": "code",
   "execution_count": null,
   "metadata": {
    "execution": {
     "iopub.execute_input": "2025-02-18T19:24:58.588255Z",
     "iopub.status.busy": "2025-02-18T19:24:58.588030Z",
     "iopub.status.idle": "2025-02-18T19:24:58.600014Z",
     "shell.execute_reply": "2025-02-18T19:24:58.599383Z",
     "shell.execute_reply.started": "2025-02-18T19:24:58.588236Z"
    },
    "trusted": true
   },
   "outputs": [],
   "source": [
    "get_recommendations('PK')"
   ]
  },
  {
   "cell_type": "markdown",
   "metadata": {},
   "source": [
    "- These recommendations are entirely dependent on the narrative. Since they are not very precise, we may attempt to enhance model performance by including other metrics."
   ]
  },
  {
   "cell_type": "markdown",
   "metadata": {},
   "source": [
    "## Recommender system with many metrics (Genre, Cast, Director) based\n",
    "\n"
   ]
  },
  {
   "cell_type": "markdown",
   "metadata": {},
   "source": [
    "- We must identify the three most significant actors, the director, and the genres connected to the film from the genre, cast, and director features.\n"
   ]
  },
  {
   "cell_type": "code",
   "execution_count": null,
   "metadata": {
    "execution": {
     "iopub.execute_input": "2025-02-18T19:24:58.601399Z",
     "iopub.status.busy": "2025-02-18T19:24:58.601106Z",
     "iopub.status.idle": "2025-02-18T19:24:58.608998Z",
     "shell.execute_reply": "2025-02-18T19:24:58.608391Z",
     "shell.execute_reply.started": "2025-02-18T19:24:58.601362Z"
    },
    "trusted": true
   },
   "outputs": [],
   "source": [
    "features=['Genre','director','cast','description','title']\n",
    "filters = df[features]"
   ]
  },
  {
   "cell_type": "code",
   "execution_count": null,
   "metadata": {
    "execution": {
     "iopub.execute_input": "2025-02-18T19:24:58.610182Z",
     "iopub.status.busy": "2025-02-18T19:24:58.609947Z",
     "iopub.status.idle": "2025-02-18T19:24:58.618526Z",
     "shell.execute_reply": "2025-02-18T19:24:58.617826Z",
     "shell.execute_reply.started": "2025-02-18T19:24:58.610160Z"
    },
    "trusted": true
   },
   "outputs": [],
   "source": [
    "#Cleaning the data by making all the words in lower case.\n",
    "def clean_data(x):\n",
    "        return str.lower(x.replace(\" \", \"\"))"
   ]
  },
  {
   "cell_type": "code",
   "execution_count": null,
   "metadata": {
    "execution": {
     "iopub.execute_input": "2025-02-18T19:24:58.619786Z",
     "iopub.status.busy": "2025-02-18T19:24:58.619544Z",
     "iopub.status.idle": "2025-02-18T19:24:58.660677Z",
     "shell.execute_reply": "2025-02-18T19:24:58.659779Z",
     "shell.execute_reply.started": "2025-02-18T19:24:58.619763Z"
    },
    "trusted": true
   },
   "outputs": [],
   "source": [
    "for feature in features:\n",
    "    filters[feature] = filters[feature].apply(clean_data)\n",
    "    \n",
    "filters.head()"
   ]
  },
  {
   "cell_type": "markdown",
   "metadata": {},
   "source": [
    "- Now that we have all the metadata we want to give our vectorizer in a string, we can make our \"metadata soup\"."
   ]
  },
  {
   "cell_type": "code",
   "execution_count": null,
   "metadata": {
    "execution": {
     "iopub.execute_input": "2025-02-18T19:24:58.662178Z",
     "iopub.status.busy": "2025-02-18T19:24:58.661848Z",
     "iopub.status.idle": "2025-02-18T19:24:58.669532Z",
     "shell.execute_reply": "2025-02-18T19:24:58.668770Z",
     "shell.execute_reply.started": "2025-02-18T19:24:58.662146Z"
    },
    "trusted": true
   },
   "outputs": [],
   "source": [
    "def create_soup(x):\n",
    "    return x['director'] + ' ' + x['cast'] + ' ' +x['Genre']+' '+ x['description']"
   ]
  },
  {
   "cell_type": "code",
   "execution_count": null,
   "metadata": {
    "execution": {
     "iopub.execute_input": "2025-02-18T19:24:58.670750Z",
     "iopub.status.busy": "2025-02-18T19:24:58.670506Z",
     "iopub.status.idle": "2025-02-18T19:24:58.770563Z",
     "shell.execute_reply": "2025-02-18T19:24:58.770032Z",
     "shell.execute_reply.started": "2025-02-18T19:24:58.670715Z"
    },
    "trusted": true
   },
   "outputs": [],
   "source": [
    "filters['soup'] = filters.apply(create_soup, axis=1)"
   ]
  },
  {
   "cell_type": "markdown",
   "metadata": {},
   "source": [
    "- The next actions are the same as those we took with our recommender based on a storyline description. The fact that we employ **CountVectorizer()** rather than TF-IDF is one significant distinction.\n",
    "\n"
   ]
  },
  {
   "cell_type": "code",
   "execution_count": null,
   "metadata": {
    "execution": {
     "iopub.execute_input": "2025-02-18T19:24:58.771538Z",
     "iopub.status.busy": "2025-02-18T19:24:58.771342Z",
     "iopub.status.idle": "2025-02-18T19:24:58.950034Z",
     "shell.execute_reply": "2025-02-18T19:24:58.949426Z",
     "shell.execute_reply.started": "2025-02-18T19:24:58.771519Z"
    },
    "trusted": true
   },
   "outputs": [],
   "source": [
    "# Import CountVectorizer and create the count matrix\n",
    "from sklearn.feature_extraction.text import CountVectorizer\n",
    "\n",
    "count = CountVectorizer(stop_words='english')\n",
    "count_matrix = count.fit_transform(filters['soup'])"
   ]
  },
  {
   "cell_type": "code",
   "execution_count": null,
   "metadata": {
    "execution": {
     "iopub.execute_input": "2025-02-18T19:24:58.951103Z",
     "iopub.status.busy": "2025-02-18T19:24:58.950906Z",
     "iopub.status.idle": "2025-02-18T19:24:59.385449Z",
     "shell.execute_reply": "2025-02-18T19:24:59.384712Z",
     "shell.execute_reply.started": "2025-02-18T19:24:58.951083Z"
    },
    "trusted": true
   },
   "outputs": [],
   "source": [
    "# Compute the Cosine Similarity matrix based on the count_matrix\n",
    "from sklearn.metrics.pairwise import cosine_similarity\n",
    "\n",
    "cosine_sim2 = cosine_similarity(count_matrix, count_matrix)"
   ]
  },
  {
   "cell_type": "code",
   "execution_count": null,
   "metadata": {
    "execution": {
     "iopub.execute_input": "2025-02-18T19:24:59.386834Z",
     "iopub.status.busy": "2025-02-18T19:24:59.386506Z",
     "iopub.status.idle": "2025-02-18T19:24:59.400918Z",
     "shell.execute_reply": "2025-02-18T19:24:59.400210Z",
     "shell.execute_reply.started": "2025-02-18T19:24:59.386800Z"
    },
    "trusted": true
   },
   "outputs": [],
   "source": [
    "filters"
   ]
  },
  {
   "cell_type": "code",
   "execution_count": null,
   "metadata": {
    "execution": {
     "iopub.execute_input": "2025-02-18T19:24:59.402428Z",
     "iopub.status.busy": "2025-02-18T19:24:59.402093Z",
     "iopub.status.idle": "2025-02-18T19:24:59.414162Z",
     "shell.execute_reply": "2025-02-18T19:24:59.413465Z",
     "shell.execute_reply.started": "2025-02-18T19:24:59.402396Z"
    },
    "trusted": true
   },
   "outputs": [],
   "source": [
    "# Reset index of our main DataFrame and construct reverse mapping as before\n",
    "filters=filters.reset_index()\n",
    "indices = pd.Series(filters.index, index=filters['title'])"
   ]
  },
  {
   "cell_type": "code",
   "execution_count": null,
   "metadata": {
    "execution": {
     "iopub.execute_input": "2025-02-18T19:24:59.415510Z",
     "iopub.status.busy": "2025-02-18T19:24:59.415199Z",
     "iopub.status.idle": "2025-02-18T19:24:59.424415Z",
     "shell.execute_reply": "2025-02-18T19:24:59.423833Z",
     "shell.execute_reply.started": "2025-02-18T19:24:59.415476Z"
    },
    "trusted": true
   },
   "outputs": [],
   "source": [
    "def get_recommendations_new(title, cosine_sim=cosine_sim):\n",
    "    title=title.replace(' ','').lower()\n",
    "    idx = indices[title]\n",
    "\n",
    "    # Get the pairwsie similarity scores of all movies with that movie\n",
    "    sim_scores = list(enumerate(cosine_sim[idx]))\n",
    "\n",
    "    # Sort the movies based on the similarity scores\n",
    "    sim_scores = sorted(sim_scores, key=lambda x: x[1], reverse=True)\n",
    "\n",
    "    # Get the scores of the 10 most similar movies\n",
    "    sim_scores = sim_scores[1:11]\n",
    "\n",
    "    # Get the movie indices\n",
    "    movie_indices = [i[0] for i in sim_scores]\n",
    "\n",
    "    # Return the top 10 most similar movies\n",
    "    return df['title'].iloc[movie_indices]"
   ]
  },
  {
   "cell_type": "code",
   "execution_count": null,
   "metadata": {
    "execution": {
     "iopub.execute_input": "2025-02-18T19:24:59.425875Z",
     "iopub.status.busy": "2025-02-18T19:24:59.425540Z",
     "iopub.status.idle": "2025-02-18T19:24:59.441503Z",
     "shell.execute_reply": "2025-02-18T19:24:59.440795Z",
     "shell.execute_reply.started": "2025-02-18T19:24:59.425844Z"
    },
    "trusted": true
   },
   "outputs": [],
   "source": [
    "get_recommendations_new('PK', cosine_sim2)"
   ]
  },
  {
   "cell_type": "code",
   "execution_count": null,
   "metadata": {
    "execution": {
     "iopub.execute_input": "2025-02-18T19:26:27.351414Z",
     "iopub.status.busy": "2025-02-18T19:26:27.351060Z",
     "iopub.status.idle": "2025-02-18T19:26:27.361857Z",
     "shell.execute_reply": "2025-02-18T19:26:27.361089Z",
     "shell.execute_reply.started": "2025-02-18T19:26:27.351385Z"
    },
    "trusted": true
   },
   "outputs": [],
   "source": [
    "get_recommendations_new('Black panther', cosine_sim2)"
   ]
  },
  {
   "cell_type": "code",
   "execution_count": null,
   "metadata": {
    "execution": {
     "iopub.execute_input": "2025-02-18T19:24:59.462832Z",
     "iopub.status.busy": "2025-02-18T19:24:59.462545Z",
     "iopub.status.idle": "2025-02-18T19:24:59.471602Z",
     "shell.execute_reply": "2025-02-18T19:24:59.470913Z",
     "shell.execute_reply.started": "2025-02-18T19:24:59.462810Z"
    },
    "trusted": true
   },
   "outputs": [],
   "source": [
    "get_recommendations_new('Naruto', cosine_sim2)"
   ]
  }
 ],
 "metadata": {
  "kaggle": {
   "accelerator": "nvidiaTeslaT4",
   "dataSources": [
    {
     "datasetId": 434238,
     "sourceId": 2654038,
     "sourceType": "datasetVersion"
    }
   ],
   "dockerImageVersionId": 30120,
   "isGpuEnabled": true,
   "isInternetEnabled": true,
   "language": "python",
   "sourceType": "notebook"
  },
  "kernelspec": {
   "display_name": "venv (3.13.5)",
   "language": "python",
   "name": "python3"
  },
  "language_info": {
   "codemirror_mode": {
    "name": "ipython",
    "version": 3
   },
   "file_extension": ".py",
   "mimetype": "text/x-python",
   "name": "python",
   "nbconvert_exporter": "python",
   "pygments_lexer": "ipython3",
   "version": "3.13.5"
  }
 },
 "nbformat": 4,
 "nbformat_minor": 4
}
